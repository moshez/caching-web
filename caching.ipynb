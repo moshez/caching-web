{
 "cells": [
  {
   "cell_type": "markdown",
   "metadata": {},
   "source": [
    "```{=latex}\n",
    "\\usepackage{hyperref}\n",
    "\\usepackage{graphicx}\n",
    "\\usepackage{listings}\n",
    "\\usepackage{textcomp}\n",
    "\\usepackage{fancyvrb}\n",
    "\n",
    "\\newcommand{\\passthrough}[1]{\\lstset{mathescape=false}#1\\lstset{mathescape=true}}\n",
    "```"
   ]
  },
  {
   "cell_type": "markdown",
   "metadata": {},
   "source": [
    "```{=latex}\n",
    "\\title{Caching Best Practices}\n",
    "\\author{Moshe Zadka -- https://cobordism.com}\n",
    "\\date{2021}\n",
    "\n",
    "\\begin{document}\n",
    "\\begin{titlepage}\n",
    "\\maketitle\n",
    "\\end{titlepage}\n",
    "\n",
    "\\frame{\\titlepage}\n",
    "```"
   ]
  },
  {
   "cell_type": "markdown",
   "metadata": {},
   "source": [
    "```{=latex}\n",
    "\\begin{frame}\n",
    "\\frametitle{Acknowledgement of Country}\n",
    "\n",
    "Belmont (in San Francisco Bay Area Peninsula)\n",
    "\n",
    "Ancestral homeland of the Ramaytush Ohlone\n",
    "\n",
    "\\end{frame}\n",
    "```"
   ]
  },
  {
   "cell_type": "markdown",
   "metadata": {},
   "source": [
    "* How caching works (15m)\n",
    "  * Caching (5m)\n",
    "    * What is a cache\n",
    "    * What is not a cache\n",
    "    * Caching for latency\n",
    "    * Caching for resource\n",
    "  * Memcache overview (5m)\n",
    "    * Memcache\n",
    "    * Semantics\n",
    "    * Behavior\n",
    "  * Cache routing (5m)\n",
    "    * mcrouter\n",
    "    * twemproxy\n",
    "    * Sharding\n",
    "    * Fail-over\n",
    "    * How redundancy looks\n",
    "    * Why redundancy is important\n",
    "* Correctness (15m)\n",
    "  * Caching errors (5m)\n",
    "    * Disconnections\n",
    "    * Timeouts\n",
    "    * Missing keys\n",
    "    * Invalid values\n",
    "  * Cache invalidation (5m)\n",
    "    * Hard!\n",
    "    * Expiring keys\n",
    "    * Invalidating keys\n",
    "  * Testing (5m)\n",
    "    * Test cache hit\n",
    "    * Test cache miss\n",
    "    * Test \"garbage\" cache value\n",
    "    * Test network disconnections\n",
    "    * Test network timeouts\n",
    "* Performance (15m)\n",
    "  * Measure (5m)\n",
    "    * Measure ratio per type\n",
    "    * Distinct timers for hit/miss\n",
    "    * Allow on/off\n",
    "    * Measure A/B performance\n",
    "  * What to cache (5m)\n",
    "    * Size\n",
    "    * Serialization\n",
    "  * Other performance (5m)\n",
    "    * Socket options\n",
    "    * Multi-get\n",
    "* Take-aways (5m)"
   ]
  },
  {
   "cell_type": "markdown",
   "metadata": {},
   "source": [
    "```{=latex}\n",
    "\\end{document}\n",
    "```"
   ]
  },
  {
   "cell_type": "code",
   "execution_count": null,
   "metadata": {},
   "outputs": [],
   "source": []
  }
 ],
 "metadata": {
  "kernelspec": {
   "display_name": "Python 3",
   "language": "python",
   "name": "python3"
  },
  "language_info": {
   "codemirror_mode": {
    "name": "ipython",
    "version": 3
   },
   "file_extension": ".py",
   "mimetype": "text/x-python",
   "name": "python",
   "nbconvert_exporter": "python",
   "pygments_lexer": "ipython3",
   "version": "3.9.0"
  }
 },
 "nbformat": 4,
 "nbformat_minor": 4
}
