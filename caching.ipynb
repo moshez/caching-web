{
 "cells": [
  {
   "cell_type": "markdown",
   "metadata": {},
   "source": [
    "```{=latex}\n",
    "\\usepackage{hyperref}\n",
    "\\usepackage{graphicx}\n",
    "\\usepackage{listings}\n",
    "\\usepackage{textcomp}\n",
    "\\usepackage{fancyvrb}\n",
    "\n",
    "\\newcommand{\\passthrough}[1]{\\lstset{mathescape=false}#1\\lstset{mathescape=true}}\n",
    "```"
   ]
  },
  {
   "cell_type": "markdown",
   "metadata": {},
   "source": [
    "```{=latex}\n",
    "\\title{Caching Best Practices}\n",
    "\\author{Moshe Zadka -- https://cobordism.com}\n",
    "\\date{2021}\n",
    "\n",
    "\\begin{document}\n",
    "\\begin{titlepage}\n",
    "\\maketitle\n",
    "\\end{titlepage}\n",
    "\n",
    "\\frame{\\titlepage}\n",
    "```"
   ]
  },
  {
   "cell_type": "markdown",
   "metadata": {},
   "source": [
    "```{=latex}\n",
    "\\begin{frame}\n",
    "\\frametitle{Acknowledgement of Country}\n",
    "\n",
    "Belmont (in San Francisco Bay Area Peninsula)\n",
    "\n",
    "Ancestral homeland of the Ramaytush Ohlone\n",
    "\n",
    "\\end{frame}\n",
    "```"
   ]
  },
  {
   "cell_type": "markdown",
   "metadata": {},
   "source": [
    "## How caching works (15m)"
   ]
  },
  {
   "cell_type": "markdown",
   "metadata": {},
   "source": [
    "### Caching (5m)"
   ]
  },
  {
   "cell_type": "markdown",
   "metadata": {},
   "source": [
    "#### What is a cache"
   ]
  },
  {
   "cell_type": "markdown",
   "metadata": {},
   "source": [
    "```{=latex}\n",
    "\\begin{frame}\n",
    "\\frametitle{What is a Cache}\n",
    "\n",
    "(For the purposes of this talk)\n",
    "\n",
    "\\begin{itemize}\n",
    "\\item Key/value\n",
    "\\item In-memory\n",
    "\\item Not pesistent\n",
    "\\end{itemize}\n",
    "\\end{frame}\n",
    "```"
   ]
  },
  {
   "cell_type": "markdown",
   "metadata": {},
   "source": [
    "#### What is not a cache"
   ]
  },
  {
   "cell_type": "markdown",
   "metadata": {},
   "source": [
    "```{=latex}\n",
    "\\begin{frame}\n",
    "\\frametitle{Not a Cache}\n",
    "\n",
    "\\begin{itemize}\n",
    "\\item Reliable\n",
    "\\item Communication\n",
    "\\end{itemize}\n",
    "\\end{frame}\n",
    "```"
   ]
  },
  {
   "cell_type": "markdown",
   "metadata": {},
   "source": [
    "#### Caching for latency"
   ]
  },
  {
   "cell_type": "markdown",
   "metadata": {},
   "source": [
    "```{=latex}\n",
    "\\begin{frame}\n",
    "\\frametitle{Why Cache? Latency}\n",
    "\n",
    "Long computations\n",
    "\\end{frame}\n",
    "```"
   ]
  },
  {
   "cell_type": "markdown",
   "metadata": {},
   "source": [
    "#### Caching for resource"
   ]
  },
  {
   "cell_type": "markdown",
   "metadata": {},
   "source": [
    "```{=latex}\n",
    "\\begin{frame}\n",
    "\\frametitle{Why Cache? Resources}\n",
    "\n",
    "Expensive computations\n",
    "\\end{frame}\n",
    "```"
   ]
  },
  {
   "cell_type": "markdown",
   "metadata": {},
   "source": [
    "#### Caching -- different objectives"
   ]
  },
  {
   "cell_type": "markdown",
   "metadata": {},
   "source": [
    "```{=latex}\n",
    "\\begin{frame}\n",
    "\\frametitle{Why Cache? Examples}\n",
    "\n",
    "\\begin{itemize}\n",
    "\\item Latency: Username retrieved from different datacenter\n",
    "\\item Resources: Indexed DB join\n",
    "\\end{itemize}\n",
    "\n",
    "\\end{frame}\n",
    "```"
   ]
  },
  {
   "cell_type": "markdown",
   "metadata": {},
   "source": [
    "### Memcache overview (5m)"
   ]
  },
  {
   "cell_type": "markdown",
   "metadata": {},
   "source": [
    "#### Memcache"
   ]
  },
  {
   "cell_type": "markdown",
   "metadata": {},
   "source": [
    "```{=latex}\n",
    "\\begin{frame}\n",
    "\\frametitle{Memcache}\n",
    "\n",
    "\\begin{itemize}\n",
    "\\item Popular cache\n",
    "\\item Fast\n",
    "\\item Does one thing\n",
    "\\item Focus of this talk\n",
    "\\end{itemize}\n",
    "\n",
    "\\end{frame}\n",
    "```"
   ]
  },
  {
   "cell_type": "markdown",
   "metadata": {},
   "source": [
    "#### Semantics"
   ]
  },
  {
   "cell_type": "markdown",
   "metadata": {},
   "source": [
    "```{=latex}\n",
    "\\begin{frame}\n",
    "\\frametitle{Memcache interface}\n",
    "```"
   ]
  },
  {
   "cell_type": "code",
   "execution_count": 1,
   "metadata": {},
   "outputs": [],
   "source": [
    "# Simplified from pymemcahce API\n",
    "class MemcacheClient:\n",
    "    def set(self, key, value):\n",
    "        ...\n",
    "    def get(self, key):\n",
    "        ...\n",
    "    def get_many(self, keys):\n",
    "        ...\n",
    "    def delete(self, key):\n",
    "        ..."
   ]
  },
  {
   "cell_type": "markdown",
   "metadata": {},
   "source": [
    "```{=latex}\n",
    "\\end{frame}\n",
    "```"
   ]
  },
  {
   "cell_type": "markdown",
   "metadata": {},
   "source": [
    "#### Behavior"
   ]
  },
  {
   "cell_type": "markdown",
   "metadata": {},
   "source": [
    "```{=latex}\n",
    "\\begin{frame}\n",
    "\\frametitle{Memcache key lifecycle}\n",
    "\n",
    "\\begin{itemize}\n",
    "\\item set\n",
    "\\item get\n",
    "\\item expire/delete/expeunge\n",
    "\\end{itemize}\n",
    "\n",
    "\\end{frame}\n",
    "```"
   ]
  },
  {
   "cell_type": "markdown",
   "metadata": {},
   "source": [
    "### Cache routing (5m)"
   ]
  },
  {
   "cell_type": "markdown",
   "metadata": {},
   "source": [
    "#### What is Routing?"
   ]
  },
  {
   "cell_type": "markdown",
   "metadata": {},
   "source": [
    "```{=latex}\n",
    "\\begin{frame}\n",
    "\\frametitle{Memcache routing}\n",
    "\n",
    "(Like HTTP proxies) \\pause\n",
    "\n",
    "Examples: \\pause\n",
    "\n",
    "mcrouter \\pause\n",
    "\n",
    "twemproxy\n",
    "\\end{frame}\n",
    "```"
   ]
  },
  {
   "cell_type": "markdown",
   "metadata": {},
   "source": [
    "```{=latex}\n",
    "\\begin{frame}\n",
    "\\frametitle{Memcache client-side routing}\n",
    "\n",
    "Client responsible for: \\pause\n",
    "\n",
    "\\begin{itemize}\n",
    "\\item Detecting server outage and fail-over\n",
    "\\item \"Fair\" sharding of keys\n",
    "\\end{itemize}\n",
    "\n",
    "\\end{frame}\n",
    "```"
   ]
  },
  {
   "cell_type": "markdown",
   "metadata": {},
   "source": [
    "```{=latex}\n",
    "\\begin{frame}\n",
    "\\frametitle{Memcache: Routing is necessary}\n",
    "\n",
    "Redundancy\n",
    "\n",
    "Scaling\n",
    "\\end{frame}\n",
    "```"
   ]
  },
  {
   "cell_type": "markdown",
   "metadata": {},
   "source": [
    "#### Sharding"
   ]
  },
  {
   "cell_type": "markdown",
   "metadata": {},
   "source": [
    "#### Fail-over"
   ]
  },
  {
   "cell_type": "markdown",
   "metadata": {},
   "source": [
    "#### How redundancy looks"
   ]
  },
  {
   "cell_type": "markdown",
   "metadata": {},
   "source": [
    "#### Why redundancy is important"
   ]
  },
  {
   "cell_type": "markdown",
   "metadata": {},
   "source": [
    "* Correctness (15m)\n",
    "  * Caching errors (5m)\n",
    "    * Disconnections\n",
    "    * Timeouts\n",
    "    * Missing keys\n",
    "    * Invalid values\n",
    "  * Cache invalidation (5m)\n",
    "    * Hard!\n",
    "    * Expiring keys\n",
    "    * Invalidating keys\n",
    "  * Testing (5m)\n",
    "    * Test cache hit\n",
    "    * Test cache miss\n",
    "    * Test \"garbage\" cache value\n",
    "    * Test network disconnections\n",
    "    * Test network timeouts\n",
    "* Performance (15m)\n",
    "  * Measure (5m)\n",
    "    * Measure ratio per type\n",
    "    * Distinct timers for hit/miss\n",
    "    * Allow on/off\n",
    "    * Measure A/B performance\n",
    "  * What to cache (5m)\n",
    "    * Size\n",
    "    * Serialization\n",
    "  * Other performance (5m)\n",
    "    * Socket options\n",
    "    * Multi-get\n",
    "* Take-aways (5m)"
   ]
  },
  {
   "cell_type": "markdown",
   "metadata": {},
   "source": [
    "```{=latex}\n",
    "\\end{document}\n",
    "```"
   ]
  },
  {
   "cell_type": "code",
   "execution_count": null,
   "metadata": {},
   "outputs": [],
   "source": []
  }
 ],
 "metadata": {
  "kernelspec": {
   "display_name": "Python 3",
   "language": "python",
   "name": "python3"
  },
  "language_info": {
   "codemirror_mode": {
    "name": "ipython",
    "version": 3
   },
   "file_extension": ".py",
   "mimetype": "text/x-python",
   "name": "python",
   "nbconvert_exporter": "python",
   "pygments_lexer": "ipython3",
   "version": "3.9.0"
  }
 },
 "nbformat": 4,
 "nbformat_minor": 4
}
